{
 "cells": [
  {
   "cell_type": "code",
   "execution_count": 1,
   "metadata": {
    "collapsed": false
   },
   "outputs": [
    {
     "name": "stderr",
     "output_type": "stream",
     "text": [
      "//anaconda/lib/python3.5/site-packages/sklearn/cross_validation.py:44: DeprecationWarning: This module was deprecated in version 0.18 in favor of the model_selection module into which all the refactored classes and functions are moved. Also note that the interface of the new CV iterators are different from that of this module. This module will be removed in 0.20.\n",
      "  \"This module will be removed in 0.20.\", DeprecationWarning)\n"
     ]
    }
   ],
   "source": [
    "import time\n",
    "import pandas as pd\n",
    "from sklearn.cross_validation import train_test_split\n",
    "from sklearn.preprocessing import LabelEncoder\n",
    "from sklearn.metrics import accuracy_score\n",
    "import numpy as np\n",
    "import xgboost as xgb"
   ]
  },
  {
   "cell_type": "code",
   "execution_count": 2,
   "metadata": {
    "collapsed": true
   },
   "outputs": [],
   "source": [
    "dfTrain = pd.read_csv('GBM Analysis - Sheet1.csv')\n",
    "labels = dfTrain['labels'].values"
   ]
  },
  {
   "cell_type": "code",
   "execution_count": 3,
   "metadata": {
    "collapsed": false
   },
   "outputs": [
    {
     "name": "stdout",
     "output_type": "stream",
     "text": [
      "<class 'pandas.core.frame.DataFrame'>\n",
      "RangeIndex: 34 entries, 0 to 33\n",
      "Data columns (total 9 columns):\n",
      "sampleID        34 non-null int64\n",
      "temperature     34 non-null float64\n",
      "bondDuration    34 non-null float64\n",
      "voltagePower    34 non-null float64\n",
      "bondForce       34 non-null float64\n",
      "bondMiddle      34 non-null float64\n",
      "bondedArea      34 non-null float64\n",
      "bondItself      34 non-null float64\n",
      "labels          34 non-null int64\n",
      "dtypes: float64(7), int64(2)\n",
      "memory usage: 2.5 KB\n"
     ]
    }
   ],
   "source": [
    "dfTrain.info()"
   ]
  },
  {
   "cell_type": "code",
   "execution_count": 14,
   "metadata": {
    "collapsed": false
   },
   "outputs": [],
   "source": [
    "trainData, validateData = train_test_split(dfTrain, test_size=0.05,\n",
    "                                           random_state=42)"
   ]
  },
  {
   "cell_type": "code",
   "execution_count": 15,
   "metadata": {
    "collapsed": false
   },
   "outputs": [],
   "source": [
    "le = LabelEncoder()\n",
    "trainLabels = le.fit_transform(trainData['labels'].values)\n",
    "validateLabels = le.fit_transform(validateData['labels'].values)\n",
    "\n",
    "dfTrain['labels'] = dfTrain['labels'].astype(float)\n",
    "\n",
    "drop_var = ['sampleID', 'labels']\n",
    "\n",
    "trainData = trainData.drop(drop_var, axis=1)\n",
    "validateData = validateData.drop(drop_var, axis=1)\n",
    "\n",
    "trainDMatrix = xgb.DMatrix(trainData.as_matrix(),\n",
    "                           label=trainLabels.astype(int))\n",
    "\n",
    "validateDMatrix = xgb.DMatrix(validateData.as_matrix(),\n",
    "                              label=validateLabels.astype(int))"
   ]
  },
  {
   "cell_type": "markdown",
   "metadata": {},
   "source": [
    "## Training Classifier for parameter tuning"
   ]
  },
  {
   "cell_type": "code",
   "execution_count": 16,
   "metadata": {
    "collapsed": true
   },
   "outputs": [],
   "source": [
    "params = {\n",
    "    'learning_rate'    : 0.038,\n",
    "    'colsample_bytree' : 0.6,\n",
    "    'subsample'        : 0.65,\n",
    "    'max_depth'        : 7,\n",
    "    'num_class'        : len(np.unique(trainLabels)),\n",
    "    'seed'             : 0,\n",
    "    'objective'        : 'multi:softprob',\n",
    "    'eval_metric'      : 'merror',\n",
    "    'booster'          : 'gbtree'\n",
    "}"
   ]
  },
  {
   "cell_type": "code",
   "execution_count": 17,
   "metadata": {
    "collapsed": false
   },
   "outputs": [],
   "source": [
    "watchlist = [(trainDMatrix, 'train'), (trainDMatrix, 'eval')]"
   ]
  },
  {
   "cell_type": "code",
   "execution_count": 18,
   "metadata": {
    "collapsed": false
   },
   "outputs": [
    {
     "name": "stdout",
     "output_type": "stream",
     "text": [
      "[0]\ttrain-merror:0.75\teval-merror:0.75\n",
      "Multiple eval metrics have been passed: 'eval-merror' will be used for early stopping.\n",
      "\n",
      "Will train until eval-merror hasn't improved in 10 rounds.\n",
      "[1]\ttrain-merror:0.65625\teval-merror:0.65625\n",
      "[2]\ttrain-merror:0.625\teval-merror:0.625\n",
      "[3]\ttrain-merror:0.59375\teval-merror:0.59375\n",
      "[4]\ttrain-merror:0.59375\teval-merror:0.59375\n",
      "[5]\ttrain-merror:0.5625\teval-merror:0.5625\n",
      "[6]\ttrain-merror:0.5625\teval-merror:0.5625\n",
      "[7]\ttrain-merror:0.5\teval-merror:0.5\n",
      "[8]\ttrain-merror:0.53125\teval-merror:0.53125\n",
      "[9]\ttrain-merror:0.46875\teval-merror:0.46875\n",
      "[10]\ttrain-merror:0.53125\teval-merror:0.53125\n",
      "[11]\ttrain-merror:0.46875\teval-merror:0.46875\n",
      "[12]\ttrain-merror:0.5\teval-merror:0.5\n",
      "[13]\ttrain-merror:0.53125\teval-merror:0.53125\n",
      "[14]\ttrain-merror:0.5\teval-merror:0.5\n",
      "[15]\ttrain-merror:0.46875\teval-merror:0.46875\n",
      "[16]\ttrain-merror:0.46875\teval-merror:0.46875\n",
      "[17]\ttrain-merror:0.40625\teval-merror:0.40625\n",
      "[18]\ttrain-merror:0.46875\teval-merror:0.46875\n",
      "[19]\ttrain-merror:0.4375\teval-merror:0.4375\n",
      "[20]\ttrain-merror:0.40625\teval-merror:0.40625\n",
      "[21]\ttrain-merror:0.40625\teval-merror:0.40625\n",
      "[22]\ttrain-merror:0.46875\teval-merror:0.46875\n",
      "[23]\ttrain-merror:0.40625\teval-merror:0.40625\n",
      "[24]\ttrain-merror:0.375\teval-merror:0.375\n",
      "[25]\ttrain-merror:0.40625\teval-merror:0.40625\n",
      "[26]\ttrain-merror:0.34375\teval-merror:0.34375\n",
      "[27]\ttrain-merror:0.3125\teval-merror:0.3125\n",
      "[28]\ttrain-merror:0.3125\teval-merror:0.3125\n",
      "[29]\ttrain-merror:0.3125\teval-merror:0.3125\n",
      "[30]\ttrain-merror:0.34375\teval-merror:0.34375\n",
      "[31]\ttrain-merror:0.3125\teval-merror:0.3125\n",
      "[32]\ttrain-merror:0.3125\teval-merror:0.3125\n",
      "[33]\ttrain-merror:0.3125\teval-merror:0.3125\n",
      "[34]\ttrain-merror:0.3125\teval-merror:0.3125\n",
      "[35]\ttrain-merror:0.3125\teval-merror:0.3125\n",
      "[36]\ttrain-merror:0.3125\teval-merror:0.3125\n",
      "[37]\ttrain-merror:0.34375\teval-merror:0.34375\n",
      "Stopping. Best iteration:\n",
      "[27]\ttrain-merror:0.3125\teval-merror:0.3125\n",
      "\n",
      "Time taken to classify\n",
      "0.00493778387705485\n"
     ]
    }
   ],
   "source": [
    "start_time = time.time()\n",
    "clf = xgb.train(params, trainDMatrix, 330, evals=watchlist,\n",
    "                early_stopping_rounds=10, verbose_eval=True)\n",
    "print('Time taken to classify')\n",
    "print((time.time() - start_time)/60)"
   ]
  },
  {
   "cell_type": "markdown",
   "metadata": {},
   "source": [
    "### Validation testing"
   ]
  },
  {
   "cell_type": "code",
   "execution_count": 19,
   "metadata": {
    "collapsed": false
   },
   "outputs": [
    {
     "name": "stdout",
     "output_type": "stream",
     "text": [
      "0.0\n"
     ]
    }
   ],
   "source": [
    "validate_label_predictions = clf.predict(validateDMatrix)\n",
    "print(accuracy_score(validateLabels, validate_label_predictions.argmax(axis = 1)))"
   ]
  },
  {
   "cell_type": "code",
   "execution_count": null,
   "metadata": {
    "collapsed": true
   },
   "outputs": [],
   "source": []
  }
 ],
 "metadata": {
  "anaconda-cloud": {},
  "kernelspec": {
   "display_name": "Python [conda root]",
   "language": "python",
   "name": "conda-root-py"
  },
  "language_info": {
   "codemirror_mode": {
    "name": "ipython",
    "version": 3
   },
   "file_extension": ".py",
   "mimetype": "text/x-python",
   "name": "python",
   "nbconvert_exporter": "python",
   "pygments_lexer": "ipython3",
   "version": "3.5.2"
  }
 },
 "nbformat": 4,
 "nbformat_minor": 2
}
